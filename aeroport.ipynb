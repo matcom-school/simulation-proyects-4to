{
 "cells": [
  {
   "cell_type": "code",
   "execution_count": 1,
   "metadata": {},
   "outputs": [],
   "source": [
    "from random import random\n",
    "from math import log\n",
    "from math import sqrt\n",
    "from math import exp\n",
    "\n",
    "def bernoulli(VA):\n",
    "    array = [(VA[ai], ai) for ai in VA]\n",
    "    array.sort(reverse=True)\n",
    "    \n",
    "    sum=0\n",
    "    new_array=[]\n",
    "    for y,x in array:\n",
    "        sum += y\n",
    "        new_array.append((sum,x))\n",
    "\n",
    "    def f():\n",
    "        U = random()\n",
    "        for y,x in new_array:\n",
    "            if U > y:\n",
    "                continue\n",
    "            return x\n",
    "    return f\n",
    "\n",
    "def exp_k(k):\n",
    "    def f():\n",
    "        U = random()\n",
    "        return -log(U)/k\n",
    "    return f\n",
    "\n",
    "def normal_standard():\n",
    "    Exp = exp_k(1)\n",
    "    sign = bernoulli({1:0.5, -1:0.5})\n",
    "    def f():\n",
    "        while True:\n",
    "            Y = Exp()\n",
    "            U = random()\n",
    "            if U <= exp(-(Y - 1)**2/2) : return sign() * Y\n",
    "    return f\n",
    "\n",
    "def normal(u, o2):\n",
    "    Z = normal_standard()\n",
    "    return lambda: Z() * sqrt(o2) + u"
   ]
  },
  {
   "cell_type": "code",
   "execution_count": 2,
   "metadata": {},
   "outputs": [
    {
     "name": "stdout",
     "output_type": "stream",
     "text": [
      "58.83582886982672\n"
     ]
    }
   ],
   "source": [
    "get_arrival_airplane_time = exp_k(1/20)\n",
    "get_time_of_loading_or_unloading = exp_k(1/30)\n",
    "get_time_arrival = normal(10, 5)\n",
    "get_time_takeoff = normal(10, 5)\n",
    "get_repair_time = exp_k(1/15)\n",
    "get_reload_time = exp_k(1/30)\n",
    "has_rupture = bernoulli({0: 0.9, 1: 0.1})\n",
    "do_loading_or_unloading = bernoulli({0: 0.5, 1: 0.5})\n",
    "\n",
    "def get_time_of_airplane_in_line(): \n",
    "    t  = get_time_arrival()\n",
    "    t += max( \n",
    "         get_reload_time(), \n",
    "         get_time_of_loading_or_unloading() if 1 == do_loading_or_unloading() else 0 \n",
    "    )\n",
    "    t += get_repair_time() if 1 == has_rupture() else 0\n",
    "    t += get_time_takeoff()\n",
    "\n",
    "    return t\n",
    "\n",
    "l = []\n",
    "for _ in range(10000):\n",
    "    l.append(get_time_of_airplane_in_line())\n",
    "\n",
    "print(sum(l)/ len(l))"
   ]
  },
  {
   "cell_type": "code",
   "execution_count": 3,
   "metadata": {},
   "outputs": [],
   "source": [
    "class AeroportState: \n",
    "    def __init__(self) -> None:\n",
    "        self.takeoff_time_in_path = [0] * 5\n",
    "        self.time_free_of_path = [0] * 5 \n",
    "        self.next_arrival_time = 0\n",
    "        self.airplane_queue = []\n",
    "        self.time = 0\n",
    "    \n",
    "    def get_free_path(self):\n",
    "        if any(self.airplane_queue): raise IndexError\n",
    "        return [i for i,time in enumerate(self.takeoff_time_in_path) if time <= self.time][0]\n",
    "    \n",
    "    def __str__(self) -> str:\n",
    "        return f'{self.time_free_of_path} : {self.time}'\n",
    "\n",
    "        "
   ]
  },
  {
   "cell_type": "code",
   "execution_count": 4,
   "metadata": {},
   "outputs": [],
   "source": [
    "def arrival_event(state: AeroportState):\n",
    "    if not state.time == state.next_arrival_time: return \n",
    "    state.next_arrival_time = state.time + get_time_arrival()\n",
    "    # print(f'dispatch arrival event time({state.time}) new arrival generate time({state.next_arrival_time})')\n",
    "    \n",
    "    try:\n",
    "        path_index = state.get_free_path()\n",
    "        # print(f'the path {path_index} be free. Last takeoff in this path time({state.takeoff_time_in_path[path_index]})')\n",
    "        state.time_free_of_path[path_index] += state.time - state.takeoff_time_in_path[path_index]\n",
    "        # print(f'sum {state.time - state.takeoff_time_in_path[path_index]} to free time of path. Actually time({state.time_free_of_path[path_index]})')\n",
    "        state.takeoff_time_in_path[path_index] = state.time + get_time_of_airplane_in_line()  \n",
    "        # print(f'Next takeoff in path time({state.takeoff_time_in_path[path_index]})')\n",
    "    except IndexError:\n",
    "        state.airplane_queue.append(state.time)\n",
    "        # print(f\"Aeroport don't have free path, arrival add to queue. Queue.length = {len(state.airplane_queue)}\")\n",
    "        state.airplane_queue.sort()\n",
    "\n",
    "    \n"
   ]
  },
  {
   "cell_type": "code",
   "execution_count": 5,
   "metadata": {},
   "outputs": [],
   "source": [
    "def takeoff_event(state: AeroportState):\n",
    "    if not state.time in state.takeoff_time_in_path: return \n",
    "    # print(f'dispatch takeoff event time({state.time}). Queue.length = {len(state.airplane_queue)}')\n",
    "\n",
    "    if any(state.airplane_queue):\n",
    "        index = state.takeoff_time_in_path.index(state.time)\n",
    "        arrival_time = state.airplane_queue.pop(0)\n",
    "        # print(f'the free path is the {index}. In this set the travel that arrival in time({arrival_time})')\n",
    "        state.takeoff_time_in_path[index] =  state.time + get_time_of_airplane_in_line()\n",
    "        # print(f'Next takeoff in the path be in time({state.takeoff_time_in_path[index]})')\n",
    "    \n"
   ]
  },
  {
   "cell_type": "code",
   "execution_count": 8,
   "metadata": {},
   "outputs": [],
   "source": [
    "import time as Time\n",
    "\n",
    "def aeroport_simulate(time): \n",
    "    state = AeroportState()\n",
    "\n",
    "    while state.time < time: \n",
    "        arrival_event(state)\n",
    "        takeoff_event(state)\n",
    "\n",
    "        # print()\n",
    "        # Time.sleep(1)\n",
    "        state.time = min([state.next_arrival_time] + [t for t in state.takeoff_time_in_path if t > state.time ])\n",
    "\n",
    "    return state\n",
    "    \n",
    "\n"
   ]
  },
  {
   "cell_type": "code",
   "execution_count": 9,
   "metadata": {},
   "outputs": [
    {
     "name": "stdout",
     "output_type": "stream",
     "text": [
      "[12.930714143528864, 20.02300054941046, 35.417868774924486, 54.01059186108452, 86.47831335583702]\n"
     ]
    }
   ],
   "source": [
    "print(aeroport_simulate(7*24*60).time_free_of_path)"
   ]
  },
  {
   "cell_type": "code",
   "execution_count": 21,
   "metadata": {},
   "outputs": [
    {
     "name": "stdout",
     "output_type": "stream",
     "text": [
      "finish steep 384 with S/√n = 0.9980247274615764 < 1 = d\n",
      "the path 0 is free a media of 6.430980368069233 hours in the week\n",
      "the path 1 is free a media of 16.787030952782658 hours in the week\n",
      "the path 2 is free a media of 27.854032994971803 hours in the week\n",
      "the path 3 is free a media of 38.98959966582595 hours in the week\n",
      "the path 4 is free a media of 55.41590219585863 hours in the week\n"
     ]
    }
   ],
   "source": [
    "def X_median(X): return sum([ x for x in X ]) / len(X)\n",
    "def S_2(X):\n",
    "    median = X_median(X)\n",
    "    return sum([ (x - median)*(x - median) for x in X ]) / (len(X) - 1)\n",
    "\n",
    "def stop_condition(steep, result, d):\n",
    "    if steep < 30: \n",
    "        print(f'continue steep {steep}', end='\\r')\n",
    "        return True\n",
    "\n",
    "    for i in range(5):\n",
    "        temp_list = []\n",
    "        for result_steep in result:\n",
    "            temp_list.append(result_steep[i])\n",
    "        s_n = sqrt(S_2(temp_list)/len(temp_list))\n",
    "        if s_n > d:\n",
    "            print(f'continue for stop condition {s_n} > {d}', end='\\r') \n",
    "            return True\n",
    "    \n",
    "    print(f'finish steep {steep} with S/√n = {s_n} < {d} = d')\n",
    "    return False\n",
    "\n",
    "def run_simulations(d):\n",
    "    i, result = 0, []\n",
    "    while stop_condition(i, result, d):\n",
    "        i += 1\n",
    "        result.append(aeroport_simulate(7*24*60).time_free_of_path)\n",
    "    \n",
    "    return ( X_median([r[0] for r in result]),\n",
    "             X_median([r[1] for r in result]),\n",
    "             X_median([r[2] for r in result]),\n",
    "             X_median([r[3] for r in result]),\n",
    "             X_median([r[4] for r in result]))\n",
    "\n",
    "\n",
    "result = run_simulations(0.2)\n",
    "print(f'the path 0 is free a media of {result[0]} hours in the week')\n",
    "print(f'the path 1 is free a media of {result[1]} hours in the week')\n",
    "print(f'the path 2 is free a media of {result[2]} hours in the week')\n",
    "print(f'the path 3 is free a media of {result[3]} hours in the week')\n",
    "print(f'the path 4 is free a media of {result[4]} hours in the week')"
   ]
  },
  {
   "cell_type": "code",
   "execution_count": null,
   "metadata": {},
   "outputs": [],
   "source": []
  }
 ],
 "metadata": {
  "interpreter": {
   "hash": "b0fa6594d8f4cbf19f97940f81e996739fb7646882a419484c72d19e05852a7e"
  },
  "kernelspec": {
   "display_name": "Python 3.9.7 64-bit",
   "language": "python",
   "name": "python3"
  },
  "language_info": {
   "codemirror_mode": {
    "name": "ipython",
    "version": 3
   },
   "file_extension": ".py",
   "mimetype": "text/x-python",
   "name": "python",
   "nbconvert_exporter": "python",
   "pygments_lexer": "ipython3",
   "version": "3.9.7"
  },
  "orig_nbformat": 4
 },
 "nbformat": 4,
 "nbformat_minor": 2
}
